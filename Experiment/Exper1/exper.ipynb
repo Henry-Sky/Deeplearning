{
 "cells": [
  {
   "cell_type": "markdown",
   "metadata": {},
   "source": [
    "- 利用Python编程语言，使用numpy工具包，实现两个二维数据的卷积操作  \n",
    "卷积类型为same，卷积核大小为3x3，步长为1，待处理二维数据大小可以自己决定，可以是一副图片，也可以是一个数字矩阵；池化核大小为2x2，使用最大池化方法，池化步长为2"
   ]
  },
  {
   "cell_type": "code",
   "execution_count": null,
   "metadata": {},
   "outputs": [],
   "source": [
    "import numpy as np\n",
    "import cv2\n",
    "\n",
    "# 定义卷积核\n",
    "cnn_kernel = np.array([[0,1,0],[1,1,1],[0,1,0]])\n",
    "cnn_sep = 1\n",
    "# 定义池化核\n",
    "pool_kernel = np.array([[1,2],[3,4]])\n",
    "pool_sep = 2\n",
    "# 定义特征图\n",
    "charact_img = cv2.imread()"
   ]
  }
 ],
 "metadata": {
  "kernelspec": {
   "display_name": "carbot",
   "language": "python",
   "name": "python3"
  },
  "language_info": {
   "name": "python",
   "version": "3.8.18"
  },
  "orig_nbformat": 4
 },
 "nbformat": 4,
 "nbformat_minor": 2
}
